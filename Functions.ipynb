{
 "cells": [
  {
   "cell_type": "code",
   "execution_count": 18,
   "id": "4bf1296e-47e5-4276-9e13-50e923526bb3",
   "metadata": {},
   "outputs": [],
   "source": [
    "def greet():\n",
    "    print('hello')\n",
    "    print('good morning')"
   ]
  },
  {
   "cell_type": "code",
   "execution_count": 20,
   "id": "345ffa3d-ac42-47bd-9b27-9344c119dfd2",
   "metadata": {},
   "outputs": [
    {
     "name": "stdout",
     "output_type": "stream",
     "text": [
      "hello\n",
      "good morning\n"
     ]
    }
   ],
   "source": [
    "def greet():\n",
    "    print('hello')\n",
    "    print('good morning')\n",
    "greet()"
   ]
  },
  {
   "cell_type": "code",
   "execution_count": 22,
   "id": "c7846982-21e3-46ac-a899-69f9b4c83a6b",
   "metadata": {},
   "outputs": [
    {
     "name": "stdout",
     "output_type": "stream",
     "text": [
      "hello\n",
      "good morning\n",
      "hello\n",
      "good morning\n"
     ]
    }
   ],
   "source": [
    "def greet():\n",
    "    print('hello')\n",
    "    print('good morning')\n",
    "greet()\n",
    "def greet():\n",
    "    print('hello')\n",
    "    print('good morning')\n",
    "greet()"
   ]
  },
  {
   "cell_type": "code",
   "execution_count": 24,
   "id": "a0e2e511-20be-44ef-be8e-54f958c9c0ca",
   "metadata": {},
   "outputs": [
    {
     "name": "stdout",
     "output_type": "stream",
     "text": [
      "hello\n",
      "good morning\n",
      "\n",
      "hello\n",
      "good morning\n"
     ]
    }
   ],
   "source": [
    "def greet():\n",
    "    print('hello')\n",
    "    print('good morning')\n",
    "greet()\n",
    "print()\n",
    "greet()"
   ]
  },
  {
   "cell_type": "code",
   "execution_count": 26,
   "id": "d01d7d8a-68e4-4c38-a892-973b2299fd95",
   "metadata": {},
   "outputs": [
    {
     "name": "stdout",
     "output_type": "stream",
     "text": [
      "hello\n",
      "good morning\n",
      "*******************\n",
      "hello\n",
      "good morning\n"
     ]
    }
   ],
   "source": [
    "def greet():\n",
    "    print('hello')\n",
    "    print('good morning')\n",
    "greet()\n",
    "print('*******************')\n",
    "greet()"
   ]
  },
  {
   "cell_type": "code",
   "execution_count": 28,
   "id": "613cbe4d-5dab-446b-b4ad-20cec7339e85",
   "metadata": {},
   "outputs": [
    {
     "name": "stdout",
     "output_type": "stream",
     "text": [
      "hello\n",
      "good morning\n",
      "*************\n",
      "hello\n",
      "good morning\n",
      "##################\n"
     ]
    }
   ],
   "source": [
    "def greet():\n",
    "    print('hello')\n",
    "    print('good morning')\n",
    "greet()\n",
    "print('*************')\n",
    "greet()\n",
    "print('##################')"
   ]
  },
  {
   "cell_type": "markdown",
   "id": "e9c1d44d-e272-4aa4-ada4-eb44a96ffbdb",
   "metadata": {},
   "source": [
    "# define the function without argument"
   ]
  },
  {
   "cell_type": "code",
   "execution_count": 31,
   "id": "944fbd17-6f0b-4629-9637-a01dba205ebe",
   "metadata": {},
   "outputs": [
    {
     "ename": "TypeError",
     "evalue": "add() missing 1 required positional argument: 'y'",
     "output_type": "error",
     "traceback": [
      "\u001b[1;31m---------------------------------------------------------------------------\u001b[0m",
      "\u001b[1;31mTypeError\u001b[0m                                 Traceback (most recent call last)",
      "Cell \u001b[1;32mIn[31], line 4\u001b[0m\n\u001b[0;32m      2\u001b[0m     c\u001b[38;5;241m=\u001b[39mx\u001b[38;5;241m+\u001b[39my\n\u001b[0;32m      3\u001b[0m     \u001b[38;5;28mprint\u001b[39m(c)\n\u001b[1;32m----> 4\u001b[0m add(\u001b[38;5;241m5\u001b[39m)\n",
      "\u001b[1;31mTypeError\u001b[0m: add() missing 1 required positional argument: 'y'"
     ]
    }
   ],
   "source": [
    "def add(x,y):\n",
    "    c=x+y\n",
    "    print(c)\n",
    "add(5)"
   ]
  },
  {
   "cell_type": "code",
   "execution_count": 33,
   "id": "69d0bf21-01d8-4b06-bb42-b4e5e757b5b7",
   "metadata": {},
   "outputs": [
    {
     "name": "stdout",
     "output_type": "stream",
     "text": [
      "9\n"
     ]
    }
   ],
   "source": [
    "def add(x,y):\n",
    "    c=x+y\n",
    "    print(c)\n",
    "add(5,4)"
   ]
  },
  {
   "cell_type": "code",
   "execution_count": 35,
   "id": "86252b87-e5e6-4484-b7df-061dc12ee0be",
   "metadata": {},
   "outputs": [
    {
     "name": "stdout",
     "output_type": "stream",
     "text": [
      "hello\n",
      "good morning\n",
      "9\n"
     ]
    }
   ],
   "source": [
    "def greet():\n",
    "    print('hello')\n",
    "    print('good morning')\n",
    "greet()\n",
    "def add(x,y):\n",
    "    c=x+y\n",
    "    print(c)\n",
    "add(5,4)"
   ]
  },
  {
   "cell_type": "code",
   "execution_count": 37,
   "id": "ff0de5e6-72b1-4ce6-9629-2b7ceca14273",
   "metadata": {},
   "outputs": [
    {
     "name": "stdout",
     "output_type": "stream",
     "text": [
      "hello\n",
      "good morning\n",
      "9\n"
     ]
    }
   ],
   "source": [
    "def greet():\n",
    "    print('hello')\n",
    "    print('good morning')\n",
    "def add(x,y):\n",
    "    c=x+y\n",
    "    print(c)\n",
    "greet()\n",
    "add(5,4)\n"
   ]
  },
  {
   "cell_type": "code",
   "execution_count": 39,
   "id": "4ec9a8a7-0e28-4c31-91b5-2d54dec138fe",
   "metadata": {},
   "outputs": [
    {
     "name": "stdout",
     "output_type": "stream",
     "text": [
      "hello\n",
      "good morning\n",
      "-------\n",
      "9\n"
     ]
    }
   ],
   "source": [
    "def greet():\n",
    "    print('hello')\n",
    "    print('good morning')\n",
    "def add(x,y):\n",
    "    c=x+y\n",
    "    print(c)\n",
    "greet()\n",
    "print('-------')\n",
    "add(5,4)"
   ]
  },
  {
   "cell_type": "code",
   "execution_count": 41,
   "id": "775a13ec-a513-445c-a864-07548a5a13d1",
   "metadata": {},
   "outputs": [
    {
     "name": "stdout",
     "output_type": "stream",
     "text": [
      "9\n"
     ]
    }
   ],
   "source": [
    "def add(x,y):\n",
    "    c=x+y\n",
    "    print(c)\n",
    "add(5,4)"
   ]
  },
  {
   "cell_type": "code",
   "execution_count": 43,
   "id": "850c41bb-aaa6-43fc-a4c7-6facd2d9887f",
   "metadata": {},
   "outputs": [
    {
     "data": {
      "text/plain": [
       "9"
      ]
     },
     "execution_count": 43,
     "metadata": {},
     "output_type": "execute_result"
    }
   ],
   "source": [
    "def add(x,y):\n",
    "    c=x+y\n",
    "    return c\n",
    "add(5,4)"
   ]
  },
  {
   "cell_type": "code",
   "execution_count": 45,
   "id": "c4721534-789a-443b-9beb-b2b11e235c39",
   "metadata": {},
   "outputs": [
    {
     "data": {
      "text/plain": [
       "0"
      ]
     },
     "execution_count": 45,
     "metadata": {},
     "output_type": "execute_result"
    }
   ],
   "source": [
    "def add(x,y,z):\n",
    "    c=x-y-z\n",
    "    return c\n",
    "add(5,2,3)\n"
   ]
  },
  {
   "cell_type": "code",
   "execution_count": 47,
   "id": "1d73146a-b71d-41eb-9aa9-36bbf8db0f58",
   "metadata": {},
   "outputs": [
    {
     "name": "stdout",
     "output_type": "stream",
     "text": [
      "hello\n",
      "good morning\n",
      "9\n"
     ]
    },
    {
     "data": {
      "text/plain": [
       "1"
      ]
     },
     "execution_count": 47,
     "metadata": {},
     "output_type": "execute_result"
    }
   ],
   "source": [
    "def greet():\n",
    "    print('hello')\n",
    "    print('good morning')\n",
    "def add(x,y):\n",
    "    c=x+y\n",
    "    print(c)\n",
    "def sub(x,y):\n",
    "    d=x-y\n",
    "    return d\n",
    "greet()\n",
    "add(5,4)\n",
    "sub(5,4)\n"
   ]
  },
  {
   "cell_type": "code",
   "execution_count": 49,
   "id": "ee9fc698-982d-4e2a-a3f5-a4e5884c2e21",
   "metadata": {},
   "outputs": [
    {
     "name": "stdout",
     "output_type": "stream",
     "text": [
      "hello\n",
      "good morning\n"
     ]
    },
    {
     "data": {
      "text/plain": [
       "9"
      ]
     },
     "execution_count": 49,
     "metadata": {},
     "output_type": "execute_result"
    }
   ],
   "source": [
    "def greet():\n",
    "    print('hello')\n",
    "    print('good morning')\n",
    "def add_sub(x,y):\n",
    "    c=x+y\n",
    "    d=x-y\n",
    "    return c\n",
    "    return d\n",
    "    \n",
    "greet()\n",
    "add_sub(5,4)\n"
   ]
  },
  {
   "cell_type": "code",
   "execution_count": 51,
   "id": "2b4c4b50-6bc8-488f-b43b-14f0e4f82feb",
   "metadata": {},
   "outputs": [
    {
     "name": "stdout",
     "output_type": "stream",
     "text": [
      "hello\n",
      "good morning\n"
     ]
    },
    {
     "data": {
      "text/plain": [
       "(11, -3)"
      ]
     },
     "execution_count": 51,
     "metadata": {},
     "output_type": "execute_result"
    }
   ],
   "source": [
    "def greet():\n",
    "    print('hello')\n",
    "    print('good morning')\n",
    "def add_sub(x,y):\n",
    "    c=x+y\n",
    "    d=x-y\n",
    "    return c,d\n",
    "greet()\n",
    "add_sub(4,7)\n"
   ]
  },
  {
   "cell_type": "code",
   "execution_count": 53,
   "id": "f09cbe70-9ba0-4f72-bb09-548febaea16f",
   "metadata": {},
   "outputs": [
    {
     "name": "stdout",
     "output_type": "stream",
     "text": [
      "(9, -1)\n",
      "<class 'tuple'>\n"
     ]
    }
   ],
   "source": [
    "def add_sub(x,y):\n",
    "    c=x+y\n",
    "    d=x-y\n",
    "    return c,d\n",
    "results=add_sub(4,5)\n",
    "print(results)\n",
    "print(type(results))"
   ]
  },
  {
   "cell_type": "code",
   "execution_count": 55,
   "id": "285ff5f4-e0f7-426c-8522-2f5db66dece0",
   "metadata": {},
   "outputs": [
    {
     "name": "stdout",
     "output_type": "stream",
     "text": [
      "9 -1\n",
      "<class 'int'>\n",
      "<class 'int'>\n"
     ]
    }
   ],
   "source": [
    "def add_sub(x,y):\n",
    "    c=x+y\n",
    "    d=x-y\n",
    "    return c,d\n",
    "res1,res2=add_sub(4,5)\n",
    "print(res1,res2)\n",
    "print(type(res1))\n",
    "print(type(res2))"
   ]
  },
  {
   "cell_type": "markdown",
   "id": "ca2bca33-b955-4222-abbe-784cd6139892",
   "metadata": {},
   "source": [
    "# 19th march"
   ]
  },
  {
   "cell_type": "code",
   "execution_count": 58,
   "id": "b83b8dc4-e5bd-4f1b-b5fe-4e507bfe7f9a",
   "metadata": {},
   "outputs": [
    {
     "ename": "TypeError",
     "evalue": "update() takes 0 positional arguments but 1 was given",
     "output_type": "error",
     "traceback": [
      "\u001b[1;31m---------------------------------------------------------------------------\u001b[0m",
      "\u001b[1;31mTypeError\u001b[0m                                 Traceback (most recent call last)",
      "Cell \u001b[1;32mIn[58], line 4\u001b[0m\n\u001b[0;32m      2\u001b[0m     x\u001b[38;5;241m=\u001b[39m\u001b[38;5;241m8\u001b[39m\n\u001b[0;32m      3\u001b[0m     \u001b[38;5;28mprint\u001b[39m(x)\n\u001b[1;32m----> 4\u001b[0m update(\u001b[38;5;241m8\u001b[39m)\n",
      "\u001b[1;31mTypeError\u001b[0m: update() takes 0 positional arguments but 1 was given"
     ]
    }
   ],
   "source": [
    "def update():\n",
    "    x=8\n",
    "    print(x)\n",
    "update(8)"
   ]
  },
  {
   "cell_type": "code",
   "execution_count": 60,
   "id": "ba3e911d-783e-4a85-b81a-acb80255ae10",
   "metadata": {},
   "outputs": [
    {
     "name": "stdout",
     "output_type": "stream",
     "text": [
      "8\n"
     ]
    }
   ],
   "source": [
    "def update(x):       #update function take the value from the user\n",
    "    x = 8\n",
    "    print(x)\n",
    "update(10)\n"
   ]
  },
  {
   "cell_type": "code",
   "execution_count": 62,
   "id": "9e4fe106-e609-4360-a94c-87dd6d7e31bc",
   "metadata": {},
   "outputs": [
    {
     "name": "stdout",
     "output_type": "stream",
     "text": [
      "10\n"
     ]
    }
   ],
   "source": [
    "def update(x):\n",
    "    x = 8\n",
    "    return x\n",
    "a=10\n",
    "update(a)\n",
    "print(a)"
   ]
  },
  {
   "cell_type": "code",
   "execution_count": 64,
   "id": "68075df6-e4ba-4ff4-bc60-b79104cd22b9",
   "metadata": {},
   "outputs": [
    {
     "name": "stdout",
     "output_type": "stream",
     "text": [
      "11\n"
     ]
    }
   ],
   "source": [
    "def add(a,b):    # a & b called formal argument\n",
    "    c=a+b\n",
    "    print(c)\n",
    "add(5,6)   #5 and 6 we called as actual argument"
   ]
  },
  {
   "cell_type": "code",
   "execution_count": 66,
   "id": "b26608e4-e22c-47d8-80c7-3bb0f50b28ae",
   "metadata": {},
   "outputs": [
    {
     "ename": "TypeError",
     "evalue": "add() takes 2 positional arguments but 3 were given",
     "output_type": "error",
     "traceback": [
      "\u001b[1;31m---------------------------------------------------------------------------\u001b[0m",
      "\u001b[1;31mTypeError\u001b[0m                                 Traceback (most recent call last)",
      "Cell \u001b[1;32mIn[66], line 4\u001b[0m\n\u001b[0;32m      2\u001b[0m     c\u001b[38;5;241m=\u001b[39ma\u001b[38;5;241m+\u001b[39mb\n\u001b[0;32m      3\u001b[0m     \u001b[38;5;28mprint\u001b[39m(c)\n\u001b[1;32m----> 4\u001b[0m add(\u001b[38;5;241m2\u001b[39m,\u001b[38;5;241m3\u001b[39m,\u001b[38;5;241m7\u001b[39m)\n",
      "\u001b[1;31mTypeError\u001b[0m: add() takes 2 positional arguments but 3 were given"
     ]
    }
   ],
   "source": [
    "def add(a,b):  # a & b called formal argument\n",
    "    c=a+b\n",
    "    print(c)\n",
    "add(2,3,7)   #5 and 6 we called as actual argument"
   ]
  },
  {
   "cell_type": "code",
   "execution_count": 68,
   "id": "258f51c0-e4b1-41b2-8b91-a61456a3ea2c",
   "metadata": {},
   "outputs": [
    {
     "ename": "TypeError",
     "evalue": "add() missing 1 required positional argument: 'b'",
     "output_type": "error",
     "traceback": [
      "\u001b[1;31m---------------------------------------------------------------------------\u001b[0m",
      "\u001b[1;31mTypeError\u001b[0m                                 Traceback (most recent call last)",
      "Cell \u001b[1;32mIn[68], line 4\u001b[0m\n\u001b[0;32m      2\u001b[0m     c\u001b[38;5;241m=\u001b[39ma\u001b[38;5;241m+\u001b[39mb\n\u001b[0;32m      3\u001b[0m     \u001b[38;5;28mprint\u001b[39m(c)\n\u001b[1;32m----> 4\u001b[0m add(\u001b[38;5;241m5\u001b[39m)\n",
      "\u001b[1;31mTypeError\u001b[0m: add() missing 1 required positional argument: 'b'"
     ]
    }
   ],
   "source": [
    "def add(a,b):    # a & b called formal argument\n",
    "    c=a+b\n",
    "    print(c)\n",
    "add(5)   #5 and 6 we called as actual argument"
   ]
  },
  {
   "cell_type": "markdown",
   "id": "302f8274-5517-4528-9e3a-0b9e4bd3210f",
   "metadata": {},
   "source": [
    "# positional argument"
   ]
  },
  {
   "cell_type": "code",
   "execution_count": 71,
   "id": "0f301edd-0581-4de2-abbc-05876ae8b3dc",
   "metadata": {},
   "outputs": [
    {
     "name": "stdout",
     "output_type": "stream",
     "text": [
      "nit\n",
      "23\n"
     ]
    }
   ],
   "source": [
    "def positional(name,age):\n",
    "    print(name)\n",
    "    print(age)\n",
    "positional('nit',23)"
   ]
  },
  {
   "cell_type": "code",
   "execution_count": 73,
   "id": "047911a4-ede8-4978-8b00-3a71d87a06aa",
   "metadata": {},
   "outputs": [
    {
     "ename": "TypeError",
     "evalue": "positional() missing 1 required positional argument: 'age'",
     "output_type": "error",
     "traceback": [
      "\u001b[1;31m---------------------------------------------------------------------------\u001b[0m",
      "\u001b[1;31mTypeError\u001b[0m                                 Traceback (most recent call last)",
      "Cell \u001b[1;32mIn[73], line 4\u001b[0m\n\u001b[0;32m      2\u001b[0m     \u001b[38;5;28mprint\u001b[39m(name)\n\u001b[0;32m      3\u001b[0m     \u001b[38;5;28mprint\u001b[39m(age)\n\u001b[1;32m----> 4\u001b[0m positional(\u001b[38;5;124m'\u001b[39m\u001b[38;5;124mnit\u001b[39m\u001b[38;5;124m'\u001b[39m)\n",
      "\u001b[1;31mTypeError\u001b[0m: positional() missing 1 required positional argument: 'age'"
     ]
    }
   ],
   "source": [
    "def positional(name,age):\n",
    "    print(name)\n",
    "    print(age)\n",
    "positional('nit')"
   ]
  },
  {
   "cell_type": "code",
   "execution_count": 75,
   "id": "41cc01cb-a0fd-46de-ac64-f1183fb0962c",
   "metadata": {},
   "outputs": [
    {
     "name": "stdout",
     "output_type": "stream",
     "text": [
      "22\n",
      "nit\n"
     ]
    }
   ],
   "source": [
    "def  position(name,age):\n",
    "     print(name)\n",
    "     print(age-5)\n",
    "positional(22,'nit')\n",
    "    "
   ]
  },
  {
   "cell_type": "code",
   "execution_count": 77,
   "id": "2b387ed2-265a-443d-94ea-eb9767e58743",
   "metadata": {},
   "outputs": [
    {
     "name": "stdout",
     "output_type": "stream",
     "text": [
      "22\n"
     ]
    },
    {
     "ename": "TypeError",
     "evalue": "unsupported operand type(s) for -: 'str' and 'int'",
     "output_type": "error",
     "traceback": [
      "\u001b[1;31m---------------------------------------------------------------------------\u001b[0m",
      "\u001b[1;31mTypeError\u001b[0m                                 Traceback (most recent call last)",
      "Cell \u001b[1;32mIn[77], line 5\u001b[0m\n\u001b[0;32m      2\u001b[0m     \u001b[38;5;28mprint\u001b[39m(name)\n\u001b[0;32m      3\u001b[0m     \u001b[38;5;28mprint\u001b[39m(age\u001b[38;5;241m-\u001b[39m\u001b[38;5;241m5\u001b[39m)\n\u001b[1;32m----> 5\u001b[0m person(\u001b[38;5;241m22\u001b[39m, \u001b[38;5;124m'\u001b[39m\u001b[38;5;124mnit\u001b[39m\u001b[38;5;124m'\u001b[39m)\n",
      "Cell \u001b[1;32mIn[77], line 3\u001b[0m, in \u001b[0;36mperson\u001b[1;34m(name, age)\u001b[0m\n\u001b[0;32m      1\u001b[0m \u001b[38;5;28;01mdef\u001b[39;00m \u001b[38;5;21mperson\u001b[39m(name, age):\n\u001b[0;32m      2\u001b[0m     \u001b[38;5;28mprint\u001b[39m(name)\n\u001b[1;32m----> 3\u001b[0m     \u001b[38;5;28mprint\u001b[39m(age\u001b[38;5;241m-\u001b[39m\u001b[38;5;241m5\u001b[39m)\n",
      "\u001b[1;31mTypeError\u001b[0m: unsupported operand type(s) for -: 'str' and 'int'"
     ]
    }
   ],
   "source": [
    "def person(name, age):\n",
    "    print(name)\n",
    "    print(age-5)\n",
    "    \n",
    "person(22, 'nit')"
   ]
  },
  {
   "cell_type": "code",
   "execution_count": 79,
   "id": "f39ab90c-da81-4bf5-97b3-9b9cc9f93744",
   "metadata": {},
   "outputs": [
    {
     "name": "stdout",
     "output_type": "stream",
     "text": [
      "nit\n",
      "18\n"
     ]
    }
   ],
   "source": [
    "def positional(name,age):\n",
    "    print(name)\n",
    "    print(age-5)\n",
    "positional(name='nit',age=23)"
   ]
  },
  {
   "cell_type": "code",
   "execution_count": 81,
   "id": "1162ac25-6676-4874-92f6-ade73a64bf50",
   "metadata": {},
   "outputs": [
    {
     "ename": "TypeError",
     "evalue": "positional() missing 1 required positional argument: 'mob'",
     "output_type": "error",
     "traceback": [
      "\u001b[1;31m---------------------------------------------------------------------------\u001b[0m",
      "\u001b[1;31mTypeError\u001b[0m                                 Traceback (most recent call last)",
      "Cell \u001b[1;32mIn[81], line 4\u001b[0m\n\u001b[0;32m      2\u001b[0m     \u001b[38;5;28mprint\u001b[39m(name)\n\u001b[0;32m      3\u001b[0m     \u001b[38;5;28mprint\u001b[39m(age\u001b[38;5;241m-\u001b[39m\u001b[38;5;241m5\u001b[39m)\n\u001b[1;32m----> 4\u001b[0m positional(name\u001b[38;5;241m=\u001b[39m\u001b[38;5;124m'\u001b[39m\u001b[38;5;124mnit\u001b[39m\u001b[38;5;124m'\u001b[39m,age\u001b[38;5;241m=\u001b[39m\u001b[38;5;241m23\u001b[39m)\n",
      "\u001b[1;31mTypeError\u001b[0m: positional() missing 1 required positional argument: 'mob'"
     ]
    }
   ],
   "source": [
    "def positional(name,age,mob):\n",
    "    print(name)\n",
    "    print(age-5)\n",
    "positional(name='nit',age=23)"
   ]
  },
  {
   "cell_type": "code",
   "execution_count": 83,
   "id": "62fb04b5-1707-42a7-a0c8-9b6a14418832",
   "metadata": {},
   "outputs": [
    {
     "name": "stdout",
     "output_type": "stream",
     "text": [
      "nit\n",
      "18\n",
      "102\n"
     ]
    }
   ],
   "source": [
    "def positional(name,age,mob):\n",
    "    print(name)\n",
    "    print(age-5)\n",
    "    print(mob)\n",
    "positional(name='nit',age=23,mob=102)"
   ]
  },
  {
   "cell_type": "markdown",
   "id": "1964656f-245b-4718-8255-25f58f7231bc",
   "metadata": {},
   "source": [
    "# Defult argument"
   ]
  },
  {
   "cell_type": "code",
   "execution_count": 86,
   "id": "7018de55-e368-4501-8e79-bb75c7d4ec06",
   "metadata": {},
   "outputs": [
    {
     "name": "stdout",
     "output_type": "stream",
     "text": [
      "nit\n",
      "21\n"
     ]
    }
   ],
   "source": [
    "def positional(name,age=21):\n",
    "    print(name)\n",
    "    print(age)\n",
    "positional('nit')"
   ]
  },
  {
   "cell_type": "code",
   "execution_count": 88,
   "id": "4f774ab6-1447-4798-bcfb-c029e23894ca",
   "metadata": {},
   "outputs": [
    {
     "name": "stdout",
     "output_type": "stream",
     "text": [
      "nit\n",
      "40\n"
     ]
    }
   ],
   "source": [
    "def positional(name,age=21):\n",
    "    print(name)\n",
    "    print(age)\n",
    "positional('nit',40)"
   ]
  },
  {
   "cell_type": "code",
   "execution_count": null,
   "id": "22b32c7e-28b4-4687-954e-f492dfa3c4c5",
   "metadata": {},
   "outputs": [],
   "source": []
  },
  {
   "cell_type": "code",
   "execution_count": null,
   "id": "d2bca0e2-0112-44f5-bfbd-69e8a8555d27",
   "metadata": {},
   "outputs": [],
   "source": []
  },
  {
   "cell_type": "code",
   "execution_count": null,
   "id": "cd36fe60-2941-401a-8b2c-122de988b085",
   "metadata": {},
   "outputs": [],
   "source": []
  },
  {
   "cell_type": "code",
   "execution_count": null,
   "id": "4f444890-dfb8-431d-bb5b-951b2b94156b",
   "metadata": {},
   "outputs": [],
   "source": []
  },
  {
   "cell_type": "code",
   "execution_count": null,
   "id": "c252e78b-4097-41b1-bc83-620206040cef",
   "metadata": {},
   "outputs": [],
   "source": []
  },
  {
   "cell_type": "code",
   "execution_count": null,
   "id": "6a6d3cf9-66ce-4c1f-bc17-cfbb7ae7d3f0",
   "metadata": {},
   "outputs": [],
   "source": []
  }
 ],
 "metadata": {
  "kernelspec": {
   "display_name": "Python [conda env:base] *",
   "language": "python",
   "name": "conda-base-py"
  },
  "language_info": {
   "codemirror_mode": {
    "name": "ipython",
    "version": 3
   },
   "file_extension": ".py",
   "mimetype": "text/x-python",
   "name": "python",
   "nbconvert_exporter": "python",
   "pygments_lexer": "ipython3",
   "version": "3.12.7"
  }
 },
 "nbformat": 4,
 "nbformat_minor": 5
}
