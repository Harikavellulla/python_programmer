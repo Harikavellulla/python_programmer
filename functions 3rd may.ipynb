{
 "cells": [
  {
   "cell_type": "markdown",
   "id": "6fd0f23b-54d9-4d3c-b98f-5516667aa5eb",
   "metadata": {},
   "source": [
    "# 3rd may"
   ]
  },
  {
   "cell_type": "code",
   "execution_count": 2,
   "id": "71958743-b261-41f2-a931-fb7a7be43954",
   "metadata": {},
   "outputs": [
    {
     "name": "stdout",
     "output_type": "stream",
     "text": [
      "15\n"
     ]
    }
   ],
   "source": [
    "x = 10\n",
    "def update_x():\n",
    "    global x\n",
    "    x +=5\n",
    "update_x()\n",
    "print(x)"
   ]
  },
  {
   "cell_type": "code",
   "execution_count": 3,
   "id": "8d30232c-10df-4b5d-8386-daff371607de",
   "metadata": {},
   "outputs": [
    {
     "name": "stdout",
     "output_type": "stream",
     "text": [
      "16\n"
     ]
    }
   ],
   "source": [
    "x = 10\n",
    "def update_x():\n",
    "    globals()['x'] += 6\n",
    "update_x()\n",
    "print(x)"
   ]
  },
  {
   "cell_type": "code",
   "execution_count": 4,
   "id": "23755278-6a89-49cd-bdc8-bf27a49619cd",
   "metadata": {},
   "outputs": [
    {
     "name": "stdout",
     "output_type": "stream",
     "text": [
      "3\n",
      "2\n"
     ]
    }
   ],
   "source": [
    "def count(lst):\n",
    "    even = 0\n",
    "    odd = 0\n",
    "    for i in lst:\n",
    "        if i%2 == 0:\n",
    "            even += 1\n",
    "        else:\n",
    "            odd +=1\n",
    "    return even,odd\n",
    "lst = [10,4,8,3,7]\n",
    "even,odd = count(lst)\n",
    "print(even)\n",
    "print(odd)"
   ]
  },
  {
   "cell_type": "code",
   "execution_count": 5,
   "id": "d2fc600e-069a-4ef3-a32e-7ebac06b1daf",
   "metadata": {},
   "outputs": [
    {
     "name": "stdout",
     "output_type": "stream",
     "text": [
      "Even Number: 6 and odd Number : 7\n"
     ]
    }
   ],
   "source": [
    "def count(lst):\n",
    "    \n",
    "    even = 0\n",
    "    odd = 0\n",
    "    \n",
    "    for i in lst:\n",
    "        if i%2 == 0:\n",
    "            even += 1\n",
    "        else:\n",
    "            odd +=1 \n",
    "    return even,odd\n",
    "\n",
    "lst = [1, 2, 3, 4, 5, 6, 7, 8, 9, 10,11,12,13]\n",
    "even,odd = count(lst)         \n",
    "\n",
    "print(\"Even Number: {} and odd Number : {}\".format(even,odd)) "
   ]
  },
  {
   "cell_type": "code",
   "execution_count": 6,
   "id": "c248929d-4eed-4f97-b3f5-a2e474c3e7c2",
   "metadata": {},
   "outputs": [
    {
     "name": "stdout",
     "output_type": "stream",
     "text": [
      "0\n",
      "1\n"
     ]
    }
   ],
   "source": [
    "def fib(n):\n",
    "    print(0)\n",
    "    print(1)\n",
    "fib(0)"
   ]
  },
  {
   "cell_type": "code",
   "execution_count": 7,
   "id": "1c831d8e-1104-426f-b9f7-4c20f707910e",
   "metadata": {},
   "outputs": [
    {
     "name": "stdout",
     "output_type": "stream",
     "text": [
      "0\n",
      "1\n",
      "1\n",
      "2\n",
      "3\n",
      "5\n",
      "8\n",
      "13\n",
      "21\n",
      "34\n",
      "55\n",
      "89\n"
     ]
    }
   ],
   "source": [
    "def fib(n):\n",
    "    a = 0\n",
    "    b = 1\n",
    "    print(0)\n",
    "    print(1)\n",
    "    for i in range(0,n):\n",
    "        c = a+b\n",
    "        a = b\n",
    "        b = c\n",
    "        print(c)\n",
    "\n",
    "fib(10)\n",
    "    "
   ]
  },
  {
   "cell_type": "code",
   "execution_count": 8,
   "id": "46ed9fc1-3bfd-4d7b-a0a1-eef55a67382a",
   "metadata": {},
   "outputs": [
    {
     "name": "stdout",
     "output_type": "stream",
     "text": [
      "0\n",
      "1\n",
      "1\n",
      "2\n"
     ]
    }
   ],
   "source": [
    "def fib(n):\n",
    "    a, b = 0,1\n",
    "    if n ==1:\n",
    "        print(a)\n",
    "    else:\n",
    "        print(a)\n",
    "        print(b)\n",
    "        for i in range(0,n):\n",
    "            c = a+b\n",
    "            a = b\n",
    "            b = c\n",
    "            print(c)\n",
    "fib(2)\n",
    "        "
   ]
  },
  {
   "cell_type": "code",
   "execution_count": 9,
   "id": "4d7bb449-15fb-49aa-8bb8-01806ba71dee",
   "metadata": {},
   "outputs": [
    {
     "name": "stdout",
     "output_type": "stream",
     "text": [
      "1\n"
     ]
    }
   ],
   "source": [
    "def fact(n):\n",
    "    f = 1\n",
    "    for i in range(1, n+1):\n",
    "        f = f*i\n",
    "\n",
    "        \n",
    "        return f\n",
    "\n",
    "x = 4\n",
    "result = fact(x)\n",
    "print(result)\n",
    "    "
   ]
  },
  {
   "cell_type": "code",
   "execution_count": 10,
   "id": "461bc217-f39d-41a5-bd9e-aa96554b0e97",
   "metadata": {},
   "outputs": [
    {
     "name": "stdout",
     "output_type": "stream",
     "text": [
      "24\n"
     ]
    }
   ],
   "source": [
    "def fact(n):\n",
    "    f = 1\n",
    "    for i in range(1, n+1):\n",
    "        f = f*i\n",
    "        \n",
    "    return f\n",
    "\n",
    "x = 4\n",
    "result = fact(x)\n",
    "print(result)     "
   ]
  },
  {
   "cell_type": "code",
   "execution_count": 11,
   "id": "96f2af2c-4135-41fc-a01b-e5b80352bc3e",
   "metadata": {},
   "outputs": [
    {
     "name": "stdout",
     "output_type": "stream",
     "text": [
      "150\n",
      "hello 1\n"
     ]
    }
   ],
   "source": [
    "import sys\n",
    "sys.setrecursionlimit(150)\n",
    "print(sys.getrecursionlimit())\n",
    "i = 0\n",
    "def wish():\n",
    "    global i\n",
    "    i += 1\n",
    "    print('hello',i)\n",
    "    #wish()\n",
    "wish()"
   ]
  },
  {
   "cell_type": "code",
   "execution_count": 12,
   "id": "171607bc-a4b7-4922-b191-104c0357c778",
   "metadata": {},
   "outputs": [
    {
     "name": "stdout",
     "output_type": "stream",
     "text": [
      "hello 1\n",
      "hello 2\n",
      "hello 3\n",
      "hello 4\n",
      "hello 5\n",
      "hello 6\n",
      "hello 7\n",
      "hello 8\n",
      "hello 9\n",
      "hello 10\n",
      "hello 11\n",
      "hello 12\n",
      "hello 13\n",
      "hello 14\n",
      "hello 15\n",
      "hello 16\n",
      "hello 17\n",
      "hello 18\n",
      "hello 19\n",
      "hello 20\n",
      "hello 21\n",
      "hello 22\n",
      "hello 23\n",
      "hello 24\n",
      "hello 25\n",
      "hello 26\n",
      "hello 27\n",
      "hello 28\n",
      "hello 29\n",
      "hello 30\n",
      "hello 31\n",
      "hello 32\n",
      "hello 33\n",
      "hello 34\n",
      "hello 35\n",
      "hello 36\n",
      "hello 37\n",
      "hello 38\n",
      "hello 39\n",
      "hello 40\n",
      "hello 41\n",
      "hello 42\n",
      "hello 43\n",
      "hello 44\n",
      "hello 45\n",
      "hello 46\n",
      "hello 47\n",
      "hello 48\n",
      "hello 49\n",
      "hello 50\n",
      "hello 51\n",
      "hello 52\n",
      "hello 53\n",
      "hello 54\n",
      "hello 55\n",
      "hello 56\n",
      "hello 57\n",
      "hello 58\n",
      "hello 59\n",
      "hello 60\n",
      "hello 61\n",
      "hello 62\n",
      "hello 63\n",
      "hello 64\n",
      "hello 65\n",
      "hello 66\n",
      "hello 67\n",
      "hello 68\n",
      "hello 69\n",
      "hello 70\n",
      "hello 71\n",
      "hello 72\n",
      "hello 73\n",
      "hello 74\n",
      "hello 75\n",
      "hello 76\n",
      "hello 77\n",
      "hello 78\n",
      "hello 79\n",
      "hello 80\n",
      "hello 81\n",
      "hello 82\n",
      "hello 83\n",
      "hello 84\n",
      "hello 85\n",
      "hello 86\n",
      "hello 87\n",
      "hello 88\n",
      "hello 89\n",
      "hello 90\n",
      "hello 91\n",
      "hello 92\n",
      "hello 93\n",
      "hello 94\n",
      "hello 95\n",
      "hello 96\n",
      "hello 97\n",
      "hello 98\n",
      "hello 99\n",
      "hello 100\n",
      "hello 101\n",
      "hello 102\n",
      "hello 103\n",
      "hello 104\n",
      "hello 105\n",
      "hello 106\n",
      "hello 107\n",
      "hello 108\n",
      "hello 109\n",
      "hello 110\n",
      "hello 111\n",
      "hello 112\n",
      "hello 113\n",
      "hello 114\n",
      "hello 115\n",
      "hello 116\n",
      "hello 117\n",
      "hello 118\n",
      "hello 119\n",
      "hello 120\n",
      "hello 121\n",
      "hello 122\n",
      "hello 123\n",
      "hello 124\n",
      "hello 125\n"
     ]
    },
    {
     "ename": "RecursionError",
     "evalue": "maximum recursion depth exceeded",
     "output_type": "error",
     "traceback": [
      "\u001b[1;31m---------------------------------------------------------------------------\u001b[0m",
      "\u001b[1;31mRecursionError\u001b[0m                            Traceback (most recent call last)",
      "Cell \u001b[1;32mIn[12], line 7\u001b[0m\n\u001b[0;32m      5\u001b[0m     \u001b[38;5;28mprint\u001b[39m(\u001b[38;5;124m'\u001b[39m\u001b[38;5;124mhello\u001b[39m\u001b[38;5;124m'\u001b[39m,i)\n\u001b[0;32m      6\u001b[0m     wish()\n\u001b[1;32m----> 7\u001b[0m wish()\n",
      "Cell \u001b[1;32mIn[12], line 6\u001b[0m, in \u001b[0;36mwish\u001b[1;34m()\u001b[0m\n\u001b[0;32m      4\u001b[0m i \u001b[38;5;241m+\u001b[39m\u001b[38;5;241m=\u001b[39m \u001b[38;5;241m1\u001b[39m\n\u001b[0;32m      5\u001b[0m \u001b[38;5;28mprint\u001b[39m(\u001b[38;5;124m'\u001b[39m\u001b[38;5;124mhello\u001b[39m\u001b[38;5;124m'\u001b[39m,i)\n\u001b[1;32m----> 6\u001b[0m wish()\n",
      "Cell \u001b[1;32mIn[12], line 6\u001b[0m, in \u001b[0;36mwish\u001b[1;34m()\u001b[0m\n\u001b[0;32m      4\u001b[0m i \u001b[38;5;241m+\u001b[39m\u001b[38;5;241m=\u001b[39m \u001b[38;5;241m1\u001b[39m\n\u001b[0;32m      5\u001b[0m \u001b[38;5;28mprint\u001b[39m(\u001b[38;5;124m'\u001b[39m\u001b[38;5;124mhello\u001b[39m\u001b[38;5;124m'\u001b[39m,i)\n\u001b[1;32m----> 6\u001b[0m wish()\n",
      "    \u001b[1;31m[... skipping similar frames: wish at line 6 (122 times)]\u001b[0m\n",
      "Cell \u001b[1;32mIn[12], line 6\u001b[0m, in \u001b[0;36mwish\u001b[1;34m()\u001b[0m\n\u001b[0;32m      4\u001b[0m i \u001b[38;5;241m+\u001b[39m\u001b[38;5;241m=\u001b[39m \u001b[38;5;241m1\u001b[39m\n\u001b[0;32m      5\u001b[0m \u001b[38;5;28mprint\u001b[39m(\u001b[38;5;124m'\u001b[39m\u001b[38;5;124mhello\u001b[39m\u001b[38;5;124m'\u001b[39m,i)\n\u001b[1;32m----> 6\u001b[0m wish()\n",
      "Cell \u001b[1;32mIn[12], line 5\u001b[0m, in \u001b[0;36mwish\u001b[1;34m()\u001b[0m\n\u001b[0;32m      3\u001b[0m \u001b[38;5;28;01mglobal\u001b[39;00m i\n\u001b[0;32m      4\u001b[0m i \u001b[38;5;241m+\u001b[39m\u001b[38;5;241m=\u001b[39m \u001b[38;5;241m1\u001b[39m\n\u001b[1;32m----> 5\u001b[0m \u001b[38;5;28mprint\u001b[39m(\u001b[38;5;124m'\u001b[39m\u001b[38;5;124mhello\u001b[39m\u001b[38;5;124m'\u001b[39m,i)\n\u001b[0;32m      6\u001b[0m wish()\n",
      "File \u001b[1;32m~\\anaconda3\\Lib\\site-packages\\ipykernel\\iostream.py:649\u001b[0m, in \u001b[0;36mOutStream.write\u001b[1;34m(self, string)\u001b[0m\n\u001b[0;32m    646\u001b[0m     msg \u001b[38;5;241m=\u001b[39m \u001b[38;5;124m\"\u001b[39m\u001b[38;5;124mI/O operation on closed file\u001b[39m\u001b[38;5;124m\"\u001b[39m\n\u001b[0;32m    647\u001b[0m     \u001b[38;5;28;01mraise\u001b[39;00m \u001b[38;5;167;01mValueError\u001b[39;00m(msg)\n\u001b[1;32m--> 649\u001b[0m is_child \u001b[38;5;241m=\u001b[39m \u001b[38;5;129;01mnot\u001b[39;00m \u001b[38;5;28mself\u001b[39m\u001b[38;5;241m.\u001b[39m_is_master_process()\n\u001b[0;32m    650\u001b[0m \u001b[38;5;66;03m# only touch the buffer in the IO thread to avoid races\u001b[39;00m\n\u001b[0;32m    651\u001b[0m \u001b[38;5;28;01mwith\u001b[39;00m \u001b[38;5;28mself\u001b[39m\u001b[38;5;241m.\u001b[39m_buffer_lock:\n",
      "\u001b[1;31mRecursionError\u001b[0m: maximum recursion depth exceeded"
     ]
    }
   ],
   "source": [
    "i = 0\n",
    "def wish():\n",
    "    global i\n",
    "    i += 1\n",
    "    print('hello',i)\n",
    "    wish()\n",
    "wish()"
   ]
  },
  {
   "cell_type": "code",
   "execution_count": null,
   "id": "157cbc6a-8fe7-4dc0-9624-12bae9d44d2e",
   "metadata": {},
   "outputs": [],
   "source": [
    "def wish():\n",
    "    print('hello')\n",
    "    wish()\n",
    "wish()"
   ]
  },
  {
   "cell_type": "code",
   "execution_count": null,
   "id": "d1aefabc-005e-42ee-90f9-fb0e1f1b2c11",
   "metadata": {},
   "outputs": [],
   "source": [
    "import sys\n",
    "sys.getrecursionlimit()"
   ]
  },
  {
   "cell_type": "code",
   "execution_count": null,
   "id": "d643f7fb-b97c-435f-8db8-4b5c0f434993",
   "metadata": {},
   "outputs": [],
   "source": [
    "def wish():\n",
    "    print('hello')\n",
    "wish()"
   ]
  },
  {
   "cell_type": "code",
   "execution_count": null,
   "id": "7fc286de-3fa2-4b4b-a3e4-397cf7849ef6",
   "metadata": {},
   "outputs": [],
   "source": [
    "import sys\n",
    "print(sys.getrecursionlimit())"
   ]
  },
  {
   "cell_type": "code",
   "execution_count": null,
   "id": "d22efdbe-22db-474a-9c75-079c202ff45c",
   "metadata": {},
   "outputs": [],
   "source": [
    "sys.setrecursionlimit(1000)"
   ]
  },
  {
   "cell_type": "code",
   "execution_count": null,
   "id": "5b79b241-0956-4c14-b0c7-1e4dd81cdcd9",
   "metadata": {},
   "outputs": [],
   "source": [
    "print(sys.setrecursionlimit())"
   ]
  },
  {
   "cell_type": "code",
   "execution_count": null,
   "id": "6b29bbf9-18f4-4156-b1d0-50fa4c042848",
   "metadata": {},
   "outputs": [],
   "source": [
    "import sys\n",
    "sys.setrecursionlimit(200)\n",
    "print(sys.getrecursionlimit())"
   ]
  },
  {
   "cell_type": "code",
   "execution_count": null,
   "id": "0ef57ae3-ddc1-41fb-8887-a3723a952d21",
   "metadata": {},
   "outputs": [],
   "source": [
    "import sys\n",
    "sys.setrecursionlimit(150)\n",
    "print(sys.getrecursionlimit())\n",
    "i = 0\n",
    "def wish():\n",
    "    global i\n",
    "    i =+ 1\n",
    "    print('hello',i)\n",
    "    wish()\n",
    "wish()"
   ]
  },
  {
   "cell_type": "markdown",
   "id": "75b1e076-be07-499a-9482-4a6066f46632",
   "metadata": {},
   "source": [
    "# foctorial using recursion"
   ]
  },
  {
   "cell_type": "code",
   "execution_count": null,
   "id": "d8ed7bd5-791a-4c9c-bf11-f4bf6f2fe281",
   "metadata": {},
   "outputs": [],
   "source": [
    "def fact(n):\n",
    "    if n==0:\n",
    "        return 1\n",
    "    return n* fact(n-1)\n",
    "results = fact(5)\n",
    "results"
   ]
  },
  {
   "cell_type": "code",
   "execution_count": null,
   "id": "768b54c4-8097-49f2-8f42-9ae62c73f749",
   "metadata": {},
   "outputs": [],
   "source": [
    "def  sequare(a):\n",
    "    return a*a\n",
    "results = sequare(5)\n",
    "print(results)"
   ]
  },
  {
   "cell_type": "markdown",
   "id": "63e2de6d-98d4-4a70-b2c2-9ea64241f7ca",
   "metadata": {},
   "source": [
    "# anonymous function | lambda function"
   ]
  },
  {
   "cell_type": "code",
   "execution_count": null,
   "id": "5194558b-742a-4547-ac93-454761baf990",
   "metadata": {},
   "outputs": [],
   "source": [
    "def square(a):\n",
    "    return a*a\n",
    "results=square(5)\n",
    "print(results)"
   ]
  },
  {
   "cell_type": "code",
   "execution_count": null,
   "id": "dd1391d7-4978-4595-b7dd-a76d6d4db958",
   "metadata": {},
   "outputs": [],
   "source": [
    "def square(a):\n",
    "    return a*a\n",
    "square(5)"
   ]
  },
  {
   "cell_type": "code",
   "execution_count": null,
   "id": "ca94c0a9-5803-445b-a658-32b11d929e9b",
   "metadata": {},
   "outputs": [],
   "source": [
    "f = lambda a : a*a\n",
    "results = f(5)\n",
    "results"
   ]
  },
  {
   "cell_type": "code",
   "execution_count": null,
   "id": "8e118587-8bf0-4e5b-85e4-841abef5a594",
   "metadata": {},
   "outputs": [],
   "source": [
    "f = lambda a,b:a + b\n",
    "f1 = lambda a,b : a-b\n",
    "results = f(1,4)\n",
    "results1 = f1(4,1)\n",
    "print(results)\n",
    "print(results1)"
   ]
  },
  {
   "cell_type": "markdown",
   "id": "4c294810-ed95-4bad-b419-e84907127b2e",
   "metadata": {},
   "source": [
    "# 5th may"
   ]
  },
  {
   "cell_type": "code",
   "execution_count": 20,
   "id": "d6b5f7b0-ac56-4c3f-b489-cdd120532c07",
   "metadata": {},
   "outputs": [
    {
     "data": {
      "text/plain": [
       "['False',\n",
       " 'None',\n",
       " 'True',\n",
       " 'and',\n",
       " 'as',\n",
       " 'assert',\n",
       " 'async',\n",
       " 'await',\n",
       " 'break',\n",
       " 'class',\n",
       " 'continue',\n",
       " 'def',\n",
       " 'del',\n",
       " 'elif',\n",
       " 'else',\n",
       " 'except',\n",
       " 'finally',\n",
       " 'for',\n",
       " 'from',\n",
       " 'global',\n",
       " 'if',\n",
       " 'import',\n",
       " 'in',\n",
       " 'is',\n",
       " 'lambda',\n",
       " 'nonlocal',\n",
       " 'not',\n",
       " 'or',\n",
       " 'pass',\n",
       " 'raise',\n",
       " 'return',\n",
       " 'try',\n",
       " 'while',\n",
       " 'with',\n",
       " 'yield']"
      ]
     },
     "execution_count": 20,
     "metadata": {},
     "output_type": "execute_result"
    }
   ],
   "source": [
    "import keyword\n",
    "keyword.kwlist"
   ]
  },
  {
   "cell_type": "code",
   "execution_count": 22,
   "id": "7375b414-3dea-4b95-bc98-b7607c5266d4",
   "metadata": {},
   "outputs": [
    {
     "ename": "NameError",
     "evalue": "name 'is_even' is not defined",
     "output_type": "error",
     "traceback": [
      "\u001b[1;31m---------------------------------------------------------------------------\u001b[0m",
      "\u001b[1;31mNameError\u001b[0m                                 Traceback (most recent call last)",
      "Cell \u001b[1;32mIn[22], line 2\u001b[0m\n\u001b[0;32m      1\u001b[0m nums \u001b[38;5;241m=\u001b[39m [\u001b[38;5;241m3\u001b[39m,\u001b[38;5;241m2\u001b[39m,\u001b[38;5;241m6\u001b[39m,\u001b[38;5;241m8\u001b[39m,\u001b[38;5;241m4\u001b[39m,\u001b[38;5;241m6\u001b[39m,\u001b[38;5;241m2\u001b[39m,\u001b[38;5;241m9\u001b[39m]\n\u001b[1;32m----> 2\u001b[0m evens \u001b[38;5;241m=\u001b[39m \u001b[38;5;28mlist\u001b[39m(\u001b[38;5;28mfilter\u001b[39m(is_even, nums))\n",
      "\u001b[1;31mNameError\u001b[0m: name 'is_even' is not defined"
     ]
    }
   ],
   "source": [
    "nums = [3,2,6,8,4,6,2,9]\n",
    "evens = list(filter(is_even, nums))"
   ]
  },
  {
   "cell_type": "code",
   "execution_count": 26,
   "id": "8a38efd9-3892-4415-9e81-4f72e9977c83",
   "metadata": {},
   "outputs": [
    {
     "name": "stdout",
     "output_type": "stream",
     "text": [
      "[2, 6, 8, 4, 6, 2]\n"
     ]
    }
   ],
   "source": [
    "def is_even(n):\n",
    "    return n % 2 == 0\n",
    "nums = [3,2,6,8,4,6,2,9]\n",
    "evens = list(filter(is_even, nums))\n",
    "print(evens)"
   ]
  },
  {
   "cell_type": "code",
   "execution_count": 30,
   "id": "8ce230ea-1515-4b15-aaf7-0c024e046e07",
   "metadata": {},
   "outputs": [
    {
     "name": "stdout",
     "output_type": "stream",
     "text": [
      "[3, 9]\n"
     ]
    }
   ],
   "source": [
    "def is_odd(n):\n",
    "    return n % 2 != 0\n",
    "nums = [3,2,6,8,4,6,2,9]\n",
    "evens = list(filter(is_odd,nums))\n",
    "print(evens)"
   ]
  },
  {
   "cell_type": "code",
   "execution_count": 34,
   "id": "d67b5031-ddf0-4a3a-a6fc-e94aef506f3a",
   "metadata": {},
   "outputs": [
    {
     "name": "stdout",
     "output_type": "stream",
     "text": [
      "[2, 6, 8, 4, 6, 2]\n"
     ]
    }
   ],
   "source": [
    "nums = [3,2,6,8,4,6,2,9]\n",
    "even  = list(filter(lambda n:n%2 == 0, nums))\n",
    "print(even)"
   ]
  },
  {
   "cell_type": "code",
   "execution_count": 36,
   "id": "82677a91-eb03-4d8f-8f97-783582394d65",
   "metadata": {},
   "outputs": [
    {
     "name": "stdout",
     "output_type": "stream",
     "text": [
      "[3, 9]\n"
     ]
    }
   ],
   "source": [
    "nums = [3,2,6,8,4,6,2,9]\n",
    "odd = list(filter(lambda n:n%2 != 0,nums))\n",
    "print(odd)"
   ]
  },
  {
   "cell_type": "code",
   "execution_count": 50,
   "id": "7c0f7a4d-e398-4e72-95c3-d44348708652",
   "metadata": {},
   "outputs": [
    {
     "name": "stdout",
     "output_type": "stream",
     "text": [
      "[2, 6, 8, 4, 6, 2]\n",
      "[3, 9]\n"
     ]
    }
   ],
   "source": [
    "nums = [3,2,6,8,4,6,2,9]\n",
    "even = list(filter(lambda n:n%2 == 0, nums))\n",
    "odd = list(filter(lambda n:n%2  != 0,nums))\n",
    "print(even)\n",
    "print(odd)"
   ]
  },
  {
   "cell_type": "code",
   "execution_count": 42,
   "id": "667db7ae-a837-46fb-8e92-661797f76843",
   "metadata": {},
   "outputs": [
    {
     "name": "stdout",
     "output_type": "stream",
     "text": [
      "[2, 6, 8, 4, 6, 2]\n",
      "[4, 8, 10, 6, 8, 4]\n"
     ]
    }
   ],
   "source": [
    "def update(n):\n",
    "    return n+2\n",
    "nums = [3,2,6,8,4,6,2,9]\n",
    "evens = list(filter(is_even,nums))\n",
    "double = list(map(update,evens))\n",
    "print(evens)\n",
    "print(double)"
   ]
  },
  {
   "cell_type": "code",
   "execution_count": 54,
   "id": "6e9613b5-84d4-4199-bd95-69d2a7dc218b",
   "metadata": {},
   "outputs": [
    {
     "name": "stdout",
     "output_type": "stream",
     "text": [
      "[2, 6, 8, 4, 6, 2]\n",
      "[4, 12, 16, 8, 12, 4]\n"
     ]
    }
   ],
   "source": [
    "nums = [3,2,6,8,4,6,2,9]\n",
    "evens = list(filter(is_even,nums))\n",
    "\n",
    "double = list(map(lambda n:n*2, evens))\n",
    "\n",
    "print(evens)\n",
    "print(double)\n"
   ]
  },
  {
   "cell_type": "code",
   "execution_count": 63,
   "id": "53f74619-f926-47f7-aafe-c2633a825c3f",
   "metadata": {},
   "outputs": [
    {
     "name": "stdout",
     "output_type": "stream",
     "text": [
      "[2, 6, 8, 4, 6, 2]\n",
      "[0, 0, 0, 0, 0, 0]\n",
      "[4, 8, 10, 6, 8, 4]\n",
      "[0, 4, 6, 2, 4, 0]\n"
     ]
    }
   ],
   "source": [
    "nums = [3,2,6,8,4,6,2,9]\n",
    "evens = list(filter(is_even,nums))\n",
    "\n",
    "\n",
    "double = list(map(lambda n:n%2, evens))\n",
    "double_ = list(map(lambda n:n+2, evens))\n",
    "double_1 = list(map(lambda n:n-2, evens))\n",
    "\n",
    "\n",
    "print(evens)\n",
    "print(double)\n",
    "print(double_)\n",
    "print(double_1)"
   ]
  },
  {
   "cell_type": "code",
   "execution_count": 73,
   "id": "92335577-510e-4a41-8f74-ba4373488b84",
   "metadata": {},
   "outputs": [
    {
     "name": "stdout",
     "output_type": "stream",
     "text": [
      "56\n"
     ]
    }
   ],
   "source": [
    "from functools import reduce\n",
    "\n",
    "def add_all(a,b):\n",
    "    return a+b\n",
    "    \n",
    "nums = [3,2,6,8,4,6,2,9]\n",
    "\n",
    "evens = list(filter(is_even, nums))\n",
    "double = list(map(lambda n:n*2, evens))\n",
    "\n",
    "sums = reduce(add_all, double)\n",
    "sums\n",
    "print(sums)"
   ]
  },
  {
   "cell_type": "code",
   "execution_count": 95,
   "id": "2b73c3b6-6cc7-4a7b-ba61-e3a91f7483de",
   "metadata": {},
   "outputs": [
    {
     "name": "stdout",
     "output_type": "stream",
     "text": [
      "[2, 6, 8, 4, 6, 2]\n",
      "[4, 12, 16, 8, 12, 4]\n",
      "56\n"
     ]
    }
   ],
   "source": [
    "from functools import reduce\n",
    "def add_all(a,b):\n",
    "    return a+b\n",
    "nums = [3,2,6,8,4,6,2,9]\n",
    "\n",
    "evens = list(filter(is_even, nums))\n",
    "double = list(map(lambda n:n*2, evens))\n",
    "sums = (reduce(lambda a,b : a+b, double))\n",
    "\n",
    "print(evens)\n",
    "print(double)\n",
    "print(sums)"
   ]
  },
  {
   "cell_type": "markdown",
   "id": "b950c554-e52b-4b38-a1f5-d67a052c8a1f",
   "metadata": {},
   "source": [
    "# python Decoretors"
   ]
  },
  {
   "cell_type": "code",
   "execution_count": 105,
   "id": "4e278642-9a28-48d6-ae68-ae61c361170e",
   "metadata": {},
   "outputs": [
    {
     "name": "stdout",
     "output_type": "stream",
     "text": [
      "2.0\n"
     ]
    }
   ],
   "source": [
    "def div(a,b):\n",
    "    print (a/b)\n",
    "div(4,2)\n"
   ]
  },
  {
   "cell_type": "code",
   "execution_count": 107,
   "id": "82d74a49-7094-4398-8a75-d688a274e221",
   "metadata": {},
   "outputs": [
    {
     "name": "stdout",
     "output_type": "stream",
     "text": [
      "0.5\n"
     ]
    }
   ],
   "source": [
    "def div(a,b):\n",
    "    print(a/b)\n",
    "div(2,4)"
   ]
  },
  {
   "cell_type": "code",
   "execution_count": 123,
   "id": "a1417f90-0545-466b-b90f-e922710bbbcb",
   "metadata": {},
   "outputs": [
    {
     "name": "stdout",
     "output_type": "stream",
     "text": [
      "2.0\n"
     ]
    }
   ],
   "source": [
    "def div(a,b):\n",
    "    if a<b:\n",
    "        a,b = b,a\n",
    "    print(a/b)\n",
    "div(4,2)"
   ]
  },
  {
   "cell_type": "code",
   "execution_count": null,
   "id": "05f98a36-10b6-44c8-8a72-0647a0b85684",
   "metadata": {},
   "outputs": [],
   "source": []
  }
 ],
 "metadata": {
  "kernelspec": {
   "display_name": "Python [conda env:base] *",
   "language": "python",
   "name": "conda-base-py"
  },
  "language_info": {
   "codemirror_mode": {
    "name": "ipython",
    "version": 3
   },
   "file_extension": ".py",
   "mimetype": "text/x-python",
   "name": "python",
   "nbconvert_exporter": "python",
   "pygments_lexer": "ipython3",
   "version": "3.12.7"
  }
 },
 "nbformat": 4,
 "nbformat_minor": 5
}
